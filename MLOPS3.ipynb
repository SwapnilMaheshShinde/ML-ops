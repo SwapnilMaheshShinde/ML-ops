{
 "cells": [
  {
   "cell_type": "code",
   "execution_count": 1,
   "id": "d138b337-3b20-437c-920f-1470d185e123",
   "metadata": {},
   "outputs": [],
   "source": [
    "from sklearn.datasets import load_iris\n",
    "iris=load_iris()\n",
    "\n",
    "from sklearn.model_selection import train_test_split\n",
    "x_train,x_test,y_train,y_test=train_test_split(iris.data,iris.target,test_size=0.2,random_state=42)\n",
    "\n",
    "from sklearn.ensemble import RandomForestClassifier\n",
    "\n",
    "model_v1=RandomForestClassifier(n_estimators=50,random_state=42)\n",
    "model_v1.fit(x_train,y_train)\n",
    "y1=model_v1.predict(x_test)\n",
    "y1\n",
    "\n",
    "model_v2=RandomForestClassifier(n_estimators=100,max_depth=3,random_state=42)\n",
    "model_v2.fit(x_train,y_train)\n",
    "y2=model_v2.predict(x_test)\n",
    "y2\n",
    "\n",
    "from sklearn.metrics import accuracy_score\n",
    "acc_v1=accuracy_score(y_test,y1)\n",
    "\n",
    "from sklearn.metrics import accuracy_score\n",
    "acc_v2=accuracy_score(y_test,y2)\n",
    "\n",
    "import joblib\n",
    "joblib.dump(model_v1,\"model_v1.pkl\")\n",
    "\n",
    "joblib.dump(model_v2,\"model_v2.pkl\")\n",
    "\n",
    "model_loaded=joblib.load(\"model_v2.pkl\")\n",
    "prediction= model_loaded.predict(x_test[:5])\n",
    "print(\"Prediction\",prediction)"
   ]
  },
  {
   "cell_type": "code",
   "execution_count": 3,
   "id": "13854088-f54e-467f-af89-884077850f1e",
   "metadata": {},
   "outputs": [],
   "source": [
    "from sklearn.model_selection import train_test_split\n",
    "x_train,x_test,y_train,y_test=train_test_split(iris.data,iris.target,test_size=0.2,random_state=42)"
   ]
  },
  {
   "cell_type": "code",
   "execution_count": 4,
   "id": "aa5a5dee-6d92-409f-b0cc-d6ef3c570c60",
   "metadata": {},
   "outputs": [
    {
     "data": {
      "text/plain": [
       "array([1, 0, 2, 1, 1, 0, 1, 2, 1, 1, 2, 0, 0, 0, 0, 1, 2, 1, 1, 2, 0, 2,\n",
       "       0, 2, 2, 2, 2, 2, 0, 0])"
      ]
     },
     "execution_count": 4,
     "metadata": {},
     "output_type": "execute_result"
    }
   ],
   "source": []
  },
  {
   "cell_type": "code",
   "execution_count": 5,
   "id": "ddbb343f-01ae-493a-9758-88c949972781",
   "metadata": {},
   "outputs": [
    {
     "data": {
      "text/plain": [
       "array([1, 0, 2, 1, 1, 0, 1, 2, 1, 1, 2, 0, 0, 0, 0, 1, 2, 1, 1, 2, 0, 2,\n",
       "       0, 2, 2, 2, 2, 2, 0, 0])"
      ]
     },
     "execution_count": 5,
     "metadata": {},
     "output_type": "execute_result"
    }
   ],
   "source": [
    "model_v2=RandomForestClassifier(n_estimators=100,max_depth=3,random_state=42)\n",
    "model_v2.fit(x_train,y_train)\n",
    "y2=model_v2.predict(x_test)\n",
    "y2"
   ]
  },
  {
   "cell_type": "code",
   "execution_count": 6,
   "id": "b39d8d80-e71c-4fe0-9619-9adbb1ddaa57",
   "metadata": {},
   "outputs": [],
   "source": [
    "from sklearn.metrics import accuracy_score\n",
    "acc_v1=accuracy_score(y_test,y1)\n",
    "\n",
    "from sklearn.metrics import accuracy_score\n",
    "acc_v2=accuracy_score(y_test,y2)"
   ]
  },
  {
   "cell_type": "code",
   "execution_count": 7,
   "id": "3b4422b6-6a75-44b4-9dec-3515549c9552",
   "metadata": {},
   "outputs": [
    {
     "data": {
      "text/plain": [
       "1.0"
      ]
     },
     "execution_count": 7,
     "metadata": {},
     "output_type": "execute_result"
    }
   ],
   "source": [
    "acc_v1"
   ]
  },
  {
   "cell_type": "code",
   "execution_count": 8,
   "id": "ae458720-5cba-4e76-9694-854c3db93847",
   "metadata": {},
   "outputs": [
    {
     "data": {
      "text/plain": [
       "1.0"
      ]
     },
     "execution_count": 8,
     "metadata": {},
     "output_type": "execute_result"
    }
   ],
   "source": [
    "acc_v2"
   ]
  },
  {
   "cell_type": "code",
   "execution_count": 14,
   "id": "9e1f3b7d-4003-4e9d-960d-cb2f38cfcb82",
   "metadata": {},
   "outputs": [
    {
     "data": {
      "text/plain": [
       "['model_v1.pkl']"
      ]
     },
     "execution_count": 14,
     "metadata": {},
     "output_type": "execute_result"
    }
   ],
   "source": [
    "import joblib\n",
    "joblib.dump(model_v1,\"model_v1.pkl\")"
   ]
  },
  {
   "cell_type": "code",
   "execution_count": 15,
   "id": "81c278b2-f089-4111-9097-040b8553f989",
   "metadata": {},
   "outputs": [
    {
     "data": {
      "text/plain": [
       "['model_v2.pkl']"
      ]
     },
     "execution_count": 15,
     "metadata": {},
     "output_type": "execute_result"
    }
   ],
   "source": [
    "joblib.dump(model_v2,\"model_v2.pkl\")"
   ]
  },
  {
   "cell_type": "code",
   "execution_count": 13,
   "id": "bba8c8da-6365-4438-9193-e8b8cf15e10f",
   "metadata": {},
   "outputs": [
    {
     "name": "stdout",
     "output_type": "stream",
     "text": [
      "Prediction [1 0 2 1 1]\n"
     ]
    }
   ],
   "source": [
    "model_loaded=joblib.load(\"model_v2.pkl\")\n",
    "prediction= model_loaded.predict(x_test[:5])\n",
    "print(\"Prediction\",prediction)"
   ]
  },
  {
   "cell_type": "code",
   "execution_count": null,
   "id": "86b8ea70-59fe-42d1-9227-cf120558b49a",
   "metadata": {},
   "outputs": [],
   "source": []
  },
  {
   "cell_type": "code",
   "execution_count": null,
   "id": "9f0360b2-9be2-4b26-943c-c733bd7d76ec",
   "metadata": {},
   "outputs": [],
   "source": []
  },
  {
   "cell_type": "code",
   "execution_count": null,
   "id": "5ffaa104-a406-4abe-a47e-8740012d0333",
   "metadata": {},
   "outputs": [],
   "source": []
  }
 ],
 "metadata": {
  "kernelspec": {
   "display_name": "Python 3 (ipykernel)",
   "language": "python",
   "name": "python3"
  },
  "language_info": {
   "codemirror_mode": {
    "name": "ipython",
    "version": 3
   },
   "file_extension": ".py",
   "mimetype": "text/x-python",
   "name": "python",
   "nbconvert_exporter": "python",
   "pygments_lexer": "ipython3",
   "version": "3.11.7"
  }
 },
 "nbformat": 4,
 "nbformat_minor": 5
}
